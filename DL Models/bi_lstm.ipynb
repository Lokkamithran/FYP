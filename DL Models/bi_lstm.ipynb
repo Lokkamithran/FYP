{
  "cells": [
    {
      "cell_type": "markdown",
      "metadata": {
        "id": "view-in-github",
        "colab_type": "text"
      },
      "source": [
        "<a href=\"https://colab.research.google.com/github/Lokkamithran/FYP/blob/main/bi_lstm.ipynb\" target=\"_parent\"><img src=\"https://colab.research.google.com/assets/colab-badge.svg\" alt=\"Open In Colab\"/></a>"
      ]
    },
    {
      "cell_type": "code",
      "execution_count": null,
      "metadata": {
        "colab": {
          "base_uri": "https://localhost:8080/"
        },
        "id": "2hzid8Smyuyr",
        "outputId": "f7971217-1ef9-4e7b-ff4f-9722517d277f"
      },
      "outputs": [
        {
          "output_type": "stream",
          "name": "stdout",
          "text": [
            "Mounted at /content/gdrive\n"
          ]
        }
      ],
      "source": [
        "from google.colab import drive\n",
        "drive.mount('/content/gdrive')"
      ]
    },
    {
      "cell_type": "code",
      "execution_count": null,
      "metadata": {
        "id": "H8KdBjzAiFim"
      },
      "outputs": [],
      "source": [
        "import pandas as pd\n",
        "import numpy as np\n",
        "import matplotlib.pyplot as plt\n",
        "# import seaborn as sns\n",
        "from sklearn.metrics import confusion_matrix, accuracy_score\n",
        "from sklearn.model_selection import train_test_split\n",
        "\n",
        "import tensorflow as tf\n",
        "from tensorflow.keras.layers import Embedding\n",
        "from tensorflow.keras.preprocessing.sequence import pad_sequences\n",
        "from tensorflow.keras.models import Sequential\n",
        "from tensorflow.keras.layers import LSTM\n",
        "from tensorflow.keras.layers import Dense\n",
        "from tensorflow.keras.preprocessing.text import one_hot\n",
        "from tensorflow.keras.layers import Bidirectional\n",
        "from numpy.random import seed\n",
        "import matplotlib.pyplot as plt\n",
        "\n",
        "seed(42)\n",
        "tf.random.set_seed(42)"
      ]
    },
    {
      "cell_type": "code",
      "execution_count": null,
      "metadata": {
        "id": "0E5vdvaS1vIp"
      },
      "outputs": [],
      "source": [
        "vocab_size = 100000"
      ]
    },
    {
      "cell_type": "code",
      "execution_count": null,
      "metadata": {
        "colab": {
          "base_uri": "https://localhost:8080/"
        },
        "id": "Q8iQigYvxL21",
        "outputId": "bb873c4e-6e7a-41e9-9a1f-1663c3ff7c56"
      },
      "outputs": [
        {
          "output_type": "stream",
          "name": "stdout",
          "text": [
            "/content\n",
            "/content/gdrive/My Drive/FYP_Colab/Bi-LSTM\n"
          ]
        }
      ],
      "source": [
        "!pwd\n",
        "import os\n",
        "os.chdir('/content/gdrive/My Drive/FYP_Colab/Bi-LSTM')\n",
        "!pwd"
      ]
    },
    {
      "cell_type": "code",
      "execution_count": null,
      "metadata": {
        "id": "OgILPq2Jj3Ht"
      },
      "outputs": [],
      "source": [
        "df = pd.read_csv(\"../Final.csv\", sep=\"`\")"
      ]
    },
    {
      "cell_type": "code",
      "execution_count": null,
      "metadata": {
        "id": "b1F1LK06ofhr"
      },
      "outputs": [],
      "source": [
        "df = df.dropna()\n",
        "# df = df.sample(frac=1).reset_index(drop=True)\n",
        "\n",
        "#independent features\n",
        "x = df[\"Comment\"]\n",
        "#dependent feature\n",
        "y = df[\"Fine Tag\"]"
      ]
    },
    {
      "cell_type": "code",
      "execution_count": null,
      "metadata": {
        "id": "ItatA8m_q83r"
      },
      "outputs": [],
      "source": [
        "encoding = [one_hot(words,vocab_size) for words in x]\n",
        "emb_doc = pad_sequences(encoding, padding='pre', maxlen=100)\n",
        "# print(emb_doc)\n",
        "\n",
        "import pickle\n",
        "with open(\"test.pkl\", \"wb\") as f:\n",
        "    pickle.dump(one_hot, f)\n",
        "\n",
        "with open(\"test.pkl\", \"rb\") as f:\n",
        "    encoder = pickle.load(f)\n",
        "new_encoding =[encoder(d, vocab_size) for d in df.text]"
      ]
    },
    {
      "cell_type": "code",
      "execution_count": null,
      "metadata": {
        "colab": {
          "base_uri": "https://localhost:8080/"
        },
        "id": "1zf2nh0tTgnK",
        "outputId": "977b2b1e-0d88-4b83-de6d-faf1cf64d4a9"
      },
      "outputs": [
        {
          "name": "stdout",
          "output_type": "stream",
          "text": [
            "<class 'pandas.core.series.Series'>   <class 'numpy.ndarray'>\n"
          ]
        }
      ],
      "source": [
        "final_x = np.array(emb_doc)\n",
        "final_y = np.array(y)\n",
        "\n",
        "# print(type(y), \" \", type(final_y))\n",
        "\n",
        "# x_train, x_test, y_train, y_test = train_test_split(final_x, final_y, test_size=0.2, random_state=42)"
      ]
    },
    {
      "cell_type": "code",
      "execution_count": null,
      "metadata": {
        "id": "7um2BTZJu4wS"
      },
      "outputs": [],
      "source": [
        "performance_df = pd.DataFrame(columns=['Batch Size','Train-Test Split','Epochs','Training Acc.','Testing Acc.','Precision','Recall','F1 Score','F0.5 Score'])\n",
        "epochsList = [2, 3, 4, 5]\n",
        "ttSplitList = [0.2, 0.3]\n",
        "batchSizeList = [32, 64, 128]"
      ]
    },
    {
      "cell_type": "code",
      "execution_count": null,
      "metadata": {
        "id": "CW2oP0YlxoEz"
      },
      "outputs": [],
      "source": [
        "for currentBatchSize in batchSizeList:\n",
        "    for currentTTSplit in ttSplitList:\n",
        "        for currentNumberOfEpochs in epochsList:\n",
        "\n",
        "            model = Sequential()\n",
        "            model.add(Embedding(vocab_size, 50, input_length=100))\n",
        "            model.add(Bidirectional(LSTM(100)))\n",
        "            model.add(Dense(1, activation='sigmoid'))\n",
        "            model.compile(loss='binary_crossentropy', optimizer='adam', metrics=['binary_accuracy'])\n",
        "\n",
        "            x_train, x_test, y_train, y_test = train_test_split(final_x, final_y, test_size = currentTTSplit, random_state=42)\n",
        "            history = model.fit(x_train, y_train, validation_data=(x_test, y_test), epochs = currentNumberOfEpochs, batch_size = currentBatchSize)\n",
        "\n",
        "            acc_train = history.history['binary_accuracy']\n",
        "            acc_val = history.history['val_binary_accuracy']\n",
        "\n",
        "            predictions = model.predict(x_test)\n",
        "            new_list = []\n",
        "            for i in range(0,predictions.size):\n",
        "                value = predictions[i][0]\n",
        "                new_list.append(0 if (value<0.5) else 1)\n",
        "\n",
        "            tn, fp, fn, tp = confusion_matrix(y_test, new_list).ravel()\n",
        "\n",
        "            precision = tp/(tp+fp)\n",
        "            recall = tp/(tp+fn)\n",
        "            f1_score = 2/((1/precision)+(1/recall))\n",
        "            f05_score = 1.25/((0.25/recall)+(1/precision))\n",
        "\n",
        "            performance_df.loc[len(performance_df.index)] = [currentBatchSize, currentTTSplit, currentNumberOfEpochs, round(acc_train[-1], 3),\n",
        "                                                             round(acc_val[-1], 3), round(precision, 3), round(recall, 3), round(f1_score, 3), round(f05_score, 3)]\n",
        "\n",
        "performance_df.to_excel(excel_writer=r'Performance_Metrics.xlsx', index=False)"
      ]
    },
    {
      "cell_type": "code",
      "execution_count": null,
      "metadata": {
        "id": "wGwKy-MFWUs6"
      },
      "outputs": [],
      "source": [
        "noOfEpochs = 2\n",
        "history = model.fit(x_train, y_train, validation_data=(x_test, y_test), epochs=noOfEpochs, batch_size=50)\n",
        "\n",
        "\n",
        "# Tried modifying:\n",
        "\n",
        "# 1. Epochs\n",
        "# 2. Batch size\n",
        "# 3. Number of Dense layers\n",
        "# 4. LSTM neurons\n",
        "# 5. max length of comments\n",
        "# 6. word embedding dimensions\n",
        "# 7. Vocabulary size\n",
        "\n",
        "# Max possible accuracy (test) ~ 68%"
      ]
    },
    {
      "cell_type": "code",
      "execution_count": null,
      "metadata": {
        "id": "GwnvAIGxZfv4"
      },
      "outputs": [],
      "source": [
        "epochs = range(1,noOfEpochs+1)\n",
        "\n",
        "acc_train = history.history['binary_accuracy']\n",
        "acc_val = history.history['val_binary_accuracy']\n",
        "plt.plot(epochs, acc_train, 'g', label='Training accuracy')\n",
        "plt.plot(epochs, acc_val, 'b', label='Validation accuracy')\n",
        "plt.title('Training and Validation accuracy')\n",
        "plt.xlabel('Epochs')\n",
        "plt.ylabel('Accuracy')\n",
        "plt.legend()\n",
        "plt.show()"
      ]
    },
    {
      "cell_type": "code",
      "execution_count": null,
      "metadata": {
        "id": "lifhZme9X1BE"
      },
      "outputs": [],
      "source": [
        "loss_train = history.history['loss']\n",
        "loss_val = history.history['val_loss']\n",
        "plt.plot(epochs, loss_train, 'g', label='Training loss')\n",
        "plt.plot(epochs, loss_val, 'b', label='Validation loss')\n",
        "plt.title('Training and Validation loss')\n",
        "plt.xlabel('Epochs')\n",
        "plt.ylabel('Loss')\n",
        "plt.legend()\n",
        "plt.show()"
      ]
    },
    {
      "cell_type": "code",
      "source": [
        "!ls"
      ],
      "metadata": {
        "colab": {
          "base_uri": "https://localhost:8080/"
        },
        "id": "tGU1NCl72uW9",
        "outputId": "f1906c56-c17d-4933-b3a4-733cbf295432"
      },
      "execution_count": null,
      "outputs": [
        {
          "output_type": "stream",
          "name": "stdout",
          "text": [
            "bi-lstm.pkl  encoder.pkl\n"
          ]
        }
      ]
    },
    {
      "cell_type": "code",
      "source": [
        "pickled_model = pickle.load(open('bi-lstm.pkl', 'rb'))\n",
        "with open('encoder.pkl', 'rb') as f:\n",
        "    encoder = pickle.load(f)"
      ],
      "metadata": {
        "id": "xCwuCKdn2nX7"
      },
      "execution_count": null,
      "outputs": []
    },
    {
      "cell_type": "code",
      "execution_count": null,
      "metadata": {
        "id": "bWJmdbOrbGsJ"
      },
      "outputs": [],
      "source": [
        "# model.save('the_bi_lstm_model.keras')\n",
        "# !cp -r '/content/the_bi_lstm_model.keras' /content/gdrive/MyDrive/FYP_Colab/\n",
        "# loaded_model = tf.keras.models.load_model('gdrive/MyDrive/FYP_Colab/the_bi_lstm_model_new.keras')\n",
        "\n",
        "sample_text = \"nee laam uyir vaala ve kudathu\"\n",
        "test_encoding = [one_hot(sample_text, vocab_size)]\n",
        "test_emb_doc = pad_sequences(test_encoding, padding=\"pre\", maxlen=100)\n",
        "\n",
        "predictions = model.predict(np.array(test_emb_doc))\n",
        "print(predictions[0][0])\n",
        "\n",
        "# Print the label based on the prediction\n",
        "if predictions[0] < 0.5:\n",
        "    print('The comment is positive')\n",
        "else:\n",
        "    print('The comment is negative')"
      ]
    },
    {
      "cell_type": "code",
      "execution_count": null,
      "metadata": {
        "id": "CelPNqWTj6TU"
      },
      "outputs": [],
      "source": [
        "#Prediction variable\n",
        "predictions = model.predict(x_test)\n",
        "new_list = []\n",
        "for i in range(0,predictions.size):\n",
        "    value = predictions[i][0]\n",
        "    new_list.append(0 if (value<0.5) else 1)\n",
        "\n",
        "tn, fp, fn, tp = confusion_matrix(y_test, new_list).ravel()\n",
        "\n",
        "precision = tp/(tp+fp)\n",
        "recall = tp/(tp+fn)\n",
        "f1_score = 2/((1/precision)+(1/recall))\n",
        "f05_score = 1.25/((0.25/recall)+(1/precision))\n",
        "\n",
        "\n",
        "print(\"Precision: \", precision)\n",
        "print(\"Recall: \", recall)\n",
        "print(\"F1 score: \", f1_score)\n",
        "print(\"F0.5 score: \", f05_score)\n",
        "# print(y_test)\n",
        "# print(np.array(new_list))"
      ]
    },
    {
      "cell_type": "code",
      "execution_count": null,
      "metadata": {
        "id": "MIg5CGjFkBrx"
      },
      "outputs": [],
      "source": [
        "print(\"Accuracy: \", accuracy_score(y_test, new_list))"
      ]
    }
  ],
  "metadata": {
    "accelerator": "GPU",
    "colab": {
      "gpuType": "T4",
      "provenance": [],
      "authorship_tag": "ABX9TyOJiVX2wIb/DuUmOyxR6Dol",
      "include_colab_link": true
    },
    "kernelspec": {
      "display_name": "Python 3",
      "name": "python3"
    },
    "language_info": {
      "name": "python"
    }
  },
  "nbformat": 4,
  "nbformat_minor": 0
}
